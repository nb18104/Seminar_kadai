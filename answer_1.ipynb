{
 "cells": [
  {
   "cell_type": "markdown",
   "metadata": {},
   "source": [
    "# 第1回　Pythonの基礎 (<font color='red'>解答</font>)\n",
    "***\n",
    "## 目次\n",
    "1. 自己紹介\n",
    "2. 入れ替え問題\n",
    "3. キャンディー問題"
   ]
  },
  {
   "cell_type": "markdown",
   "metadata": {},
   "source": [
    "## 問題1\n",
    "***\n",
    "まず最初は辞書型を用いて自己紹介を出力してみましょう．\n",
    "\n",
    "項目は`名前・学籍番号・年齢・出身`とします．\n",
    "\n",
    "次の例のように出力しましょう．\n",
    "\n",
    "```\n",
    "Name: 芝浦太郎\n",
    "ID number: AF18999\n",
    "Age: 20\n",
    "Birthplace: Tokyo\n",
    "```"
   ]
  },
  {
   "cell_type": "code",
   "execution_count": 2,
   "metadata": {},
   "outputs": [
    {
     "name": "stdout",
     "output_type": "stream",
     "text": [
      "Name:  芝浦太郎\n",
      "ID number:  AF18999\n",
      "Age:  20\n",
      "Birthplace:  Tokyo\n"
     ]
    }
   ],
   "source": [
    "# 上記の4つの項目を含んだ辞書型変数を作成\n",
    "# ここにあなたのコードを書いてください\n",
    "self_intro = {\n",
    "    'Name': '芝浦太郎',\n",
    "    'ID': 'AF18999',\n",
    "    'Age': 20,\n",
    "    'Birthplace': 'Tokyo'\n",
    "}\n",
    "\n",
    "\n",
    "# 自己紹介文を出力\n",
    "# ここにあなたのコードを書いてください\n",
    "print('Name: ', self_intro['Name'])\n",
    "print('ID number: ', self_intro['ID'])\n",
    "print('Age: ', self_intro['Age'])\n",
    "print('Birthplace: ', self_intro['Birthplace'])"
   ]
  },
  {
   "cell_type": "markdown",
   "metadata": {},
   "source": [
    "## 問題2\n",
    "***\n",
    "次の２つのリストが与えられています．\n",
    "\n",
    "`a = [1, 2, 3, 4]`\n",
    "`b = [5, 6, 7, 8]`\n",
    "\n",
    "この`a`と`b`の中身を入れ替えて出力してください．"
   ]
  },
  {
   "cell_type": "code",
   "execution_count": 3,
   "metadata": {},
   "outputs": [
    {
     "name": "stdout",
     "output_type": "stream",
     "text": [
      "a:  [5, 6, 7, 8]\n",
      "b:  [1, 2, 3, 4]\n"
     ]
    }
   ],
   "source": [
    "# list a, bを作成\n",
    "a = [1, 2, 3, 4]\n",
    "b = [5, 6, 7, 8]\n",
    "\n",
    "# a, bの中身を入れ替える\n",
    "# ここにあなたのコードを書いてください\n",
    "tmp = a\n",
    "a = b\n",
    "b = tmp\n",
    "\n",
    "# 出力\n",
    "print('a: ', a)\n",
    "print('b: ', b)"
   ]
  },
  {
   "cell_type": "markdown",
   "metadata": {},
   "source": [
    "#### (別解)"
   ]
  },
  {
   "cell_type": "code",
   "execution_count": 4,
   "metadata": {},
   "outputs": [
    {
     "name": "stdout",
     "output_type": "stream",
     "text": [
      "a:  [5, 6, 7, 8]\n",
      "b:  [1, 2, 3, 4]\n"
     ]
    }
   ],
   "source": [
    "# list a, bを作成\n",
    "a = [1, 2, 3, 4]\n",
    "b = [5, 6, 7, 8]\n",
    "\n",
    "# a, bの中身を入れ替える\n",
    "# ここにあなたのコードを書いてください\n",
    "a, b = b, a\n",
    "\n",
    "# 出力\n",
    "print('a: ', a)\n",
    "print('b: ', b)"
   ]
  },
  {
   "cell_type": "markdown",
   "metadata": {},
   "source": [
    "## 問題3\n",
    "***\n",
    "３兄弟の`一郎，二郎，三郎`はハロウィーンで飴を集めました．３人はそれぞれで集めた飴を持ちより，均等に分けることにしました．そして，３人で分けきれなく余った飴は，お母さんにあげることにしました．\n",
    "\n",
    "- ３人はそれぞれ何個ずつの飴を得ることができるでしょう．\n",
    "\n",
    "- また，お母さんは何個の飴をもらえるでしょうか．"
   ]
  },
  {
   "cell_type": "code",
   "execution_count": 5,
   "metadata": {},
   "outputs": [
    {
     "name": "stdout",
     "output_type": "stream",
     "text": [
      "一人当たりの飴の数:  102\n",
      "お母さんの飴の数:  1\n"
     ]
    }
   ],
   "source": [
    "# 一郎，二郎，三郎がそれぞれ集めた飴の数\n",
    "candy_one = 121\n",
    "candy_two = 77\n",
    "candy_three = 109\n",
    "\n",
    "# 計算処理\n",
    "# ここにあなたのコードを書いてください\n",
    "candy_per_person = (candy_one + candy_two + candy_three) // 3\n",
    "candy_mom = (candy_one + candy_two + candy_three) % 3\n",
    "\n",
    "# 出力\n",
    "# ここにあなたのコードを追加してください\n",
    "print('一人当たりの飴の数: ', candy_per_person)\n",
    "print('お母さんの飴の数: ', candy_mom)"
   ]
  }
 ],
 "metadata": {
  "kernelspec": {
   "display_name": "Python 3",
   "language": "python",
   "name": "python3"
  },
  "language_info": {
   "codemirror_mode": {
    "name": "ipython",
    "version": 3
   },
   "file_extension": ".py",
   "mimetype": "text/x-python",
   "name": "python",
   "nbconvert_exporter": "python",
   "pygments_lexer": "ipython3",
   "version": "3.7.6"
  }
 },
 "nbformat": 4,
 "nbformat_minor": 4
}
