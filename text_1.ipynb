{
 "cells": [
  {
   "cell_type": "markdown",
   "metadata": {},
   "source": [
    "# 第１回　Pythonの基礎\n",
    "***\n",
    "## 目次\n",
    "1. Pythonとは\n",
    "2. 基本構文\n",
    "    1. 変数\n",
    "    2. 演算\n",
    "    3. リストと辞書型"
   ]
  },
  {
   "cell_type": "markdown",
   "metadata": {},
   "source": [
    "## 1. Pythonとは\n",
    "***\n",
    "Python（パイソン）は，[インタプリタ](http://e-words.jp/w/%E3%82%A4%E3%83%B3%E3%82%BF%E3%83%97%E3%83%AA%E3%82%BF.html)型の高水準汎用プログラミング言語である．主な特徴としては，他言語と比べてコーディングが容易な点や，データ解析や機械学習系のライブラリが用意されていることから，データサイエンスにおいて広く使われている．\n",
    "また，他にも，YouTubeやInstagram，DropboxなどのWebアプリの開発に用いられている言語である．\n",
    "\n",
    "\n",
    "実際に，`Hello World!!!`と出力するソースコードをC言語と比較してみる．\n",
    "\n",
    "- C言語\n",
    "```vb\n",
    "# include <stdio.h>\n",
    "int main(void){\n",
    "    printf(\"Hello World!!!\\n\");\n",
    "    return 0;\n",
    "}\n",
    "```\n",
    "\n",
    "- Python\n",
    "```vb\n",
    "print(\"Hello World!!!\")\n",
    "```"
   ]
  },
  {
   "cell_type": "markdown",
   "metadata": {},
   "source": [
    "## 2. 基本構文\n",
    "***\n",
    "`Hello World!!!`の比較のように，Pythonは簡単かつシンプルにコードを記述することができる．\n",
    "また，C言語で用いられるような，文末を表す`;`やブロックを表す`{}`は使われず，`改行`や`インデント`で表される．\n",
    "\n",
    "他には，コメント文を記述する際は`#`を用いる．"
   ]
  },
  {
   "cell_type": "markdown",
   "metadata": {},
   "source": [
    "### A. 変数\n",
    "***\n",
    "ここでは，変数について説明する．\n",
    "\n",
    "C言語やJavaなどのプログラミング言語では，変数を扱う際に，整数型`int`なのか浮動小数点型`float`なのか文字型`char`なのか宣言する必要があった．これを静的型付け言語と言う．一方で，Pythonは動的型付け言語と言われ，変数の「型宣言」が基本的に必要ない．"
   ]
  },
  {
   "cell_type": "markdown",
   "metadata": {},
   "source": [
    "以下に，変数に数値や文字列を代入し，`print`によって出力する例を示す．"
   ]
  },
  {
   "cell_type": "code",
   "execution_count": 2,
   "metadata": {},
   "outputs": [],
   "source": [
    "# 変数に代入\n",
    "\n",
    "a = 12 # 整数\n",
    "b = 3.14 # 小数\n",
    "c = \"K\" # 文字\n",
    "d = \"KamiokaLab\" # 文字列"
   ]
  },
  {
   "cell_type": "code",
   "execution_count": 3,
   "metadata": {},
   "outputs": [
    {
     "name": "stdout",
     "output_type": "stream",
     "text": [
      "12\n"
     ]
    }
   ],
   "source": [
    "# aを出力\n",
    "print(a)"
   ]
  },
  {
   "cell_type": "code",
   "execution_count": 4,
   "metadata": {},
   "outputs": [
    {
     "name": "stdout",
     "output_type": "stream",
     "text": [
      "3.14\n"
     ]
    }
   ],
   "source": [
    "# bを出力\n",
    "print(b)"
   ]
  },
  {
   "cell_type": "code",
   "execution_count": 5,
   "metadata": {},
   "outputs": [
    {
     "name": "stdout",
     "output_type": "stream",
     "text": [
      "K\n"
     ]
    }
   ],
   "source": [
    "# cを出力\n",
    "print(c)"
   ]
  },
  {
   "cell_type": "code",
   "execution_count": 6,
   "metadata": {},
   "outputs": [
    {
     "name": "stdout",
     "output_type": "stream",
     "text": [
      "KamiokaLab\n"
     ]
    }
   ],
   "source": [
    "# dを出力\n",
    "print(d)"
   ]
  },
  {
   "cell_type": "markdown",
   "metadata": {},
   "source": [
    "また，文字列`d`の後に，`[インデックス]`を指定することによって，インデックス番目の文字を取り出すことができる．\n",
    "\n",
    "※ インデックスは0から．"
   ]
  },
  {
   "cell_type": "code",
   "execution_count": 7,
   "metadata": {},
   "outputs": [
    {
     "name": "stdout",
     "output_type": "stream",
     "text": [
      "K\n"
     ]
    }
   ],
   "source": [
    "# 文字列dの1番目の文字を出力\n",
    "print(d[0])"
   ]
  },
  {
   "cell_type": "code",
   "execution_count": 8,
   "metadata": {},
   "outputs": [
    {
     "name": "stdout",
     "output_type": "stream",
     "text": [
      "L\n"
     ]
    }
   ],
   "source": [
    "# 文字列dの8番目の文字を出力\n",
    "print(d[7])"
   ]
  },
  {
   "cell_type": "markdown",
   "metadata": {},
   "source": [
    "インデックスにマイナスを渡すことで，文字列の後ろから取り出すこともできる．"
   ]
  },
  {
   "cell_type": "code",
   "execution_count": 9,
   "metadata": {},
   "outputs": [
    {
     "name": "stdout",
     "output_type": "stream",
     "text": [
      "b\n"
     ]
    }
   ],
   "source": [
    "# 文字列dの後から1番目の文字を出力\n",
    "print(d[-1])"
   ]
  },
  {
   "cell_type": "code",
   "execution_count": 10,
   "metadata": {},
   "outputs": [
    {
     "name": "stdout",
     "output_type": "stream",
     "text": [
      "L\n"
     ]
    }
   ],
   "source": [
    "# 文字列dの後から3番目の文字を出力\n",
    "print(d[-3])"
   ]
  },
  {
   "cell_type": "markdown",
   "metadata": {},
   "source": [
    "### B. 演算\n",
    "***\n",
    "次に，演算子について説明する．"
   ]
  },
  {
   "cell_type": "markdown",
   "metadata": {},
   "source": [
    "#### 数値演算子 (https://www.headboost.jp/python-operators/)\n",
    "\n",
    "| 演算子 |   例   | 説明      |\n",
    "| :----: | :----: | :--------- |\n",
    "|   +    | a + b  | 足し算 |\n",
    "|   -    | a - b  | 引き算 |\n",
    "|   *    | a * b  | 掛け算 |\n",
    "|   /    | a / b  | 割り算 |\n",
    "|   //   | a // b | aをbで割った商の整数値 |\n",
    "|   %    | a % b  | aをbで割った時の余り |\n",
    "|   **   | a ** b | aのb乗 |"
   ]
  },
  {
   "cell_type": "code",
   "execution_count": 11,
   "metadata": {},
   "outputs": [
    {
     "name": "stdout",
     "output_type": "stream",
     "text": [
      "13\n"
     ]
    }
   ],
   "source": [
    "print(10 + 3)"
   ]
  },
  {
   "cell_type": "code",
   "execution_count": 12,
   "metadata": {},
   "outputs": [
    {
     "name": "stdout",
     "output_type": "stream",
     "text": [
      "3\n"
     ]
    }
   ],
   "source": [
    "print(10 // 3)"
   ]
  },
  {
   "cell_type": "code",
   "execution_count": 13,
   "metadata": {},
   "outputs": [
    {
     "name": "stdout",
     "output_type": "stream",
     "text": [
      "1000\n"
     ]
    }
   ],
   "source": [
    "print(10 ** 3)"
   ]
  },
  {
   "cell_type": "markdown",
   "metadata": {},
   "source": [
    "#### 文字列演算子 (https://www.headboost.jp/python-operators/)\n",
    "\n",
    "| 演算子 |   例   | 説明      |\n",
    "| :----: | :----: | :--------- |\n",
    "|   +    | \"a\" + \"b\" | 文字\"a\"と文字\"b\"を連結して，文字列\"ab\" |\n",
    "|   *    | \"abc\" * n  | 文字列\"abc\"をn回繰り返す |"
   ]
  },
  {
   "cell_type": "code",
   "execution_count": 14,
   "metadata": {},
   "outputs": [
    {
     "name": "stdout",
     "output_type": "stream",
     "text": [
      "ab\n"
     ]
    }
   ],
   "source": [
    "print(\"a\" + \"b\")"
   ]
  },
  {
   "cell_type": "code",
   "execution_count": 15,
   "metadata": {},
   "outputs": [
    {
     "name": "stdout",
     "output_type": "stream",
     "text": [
      "abcabcabc\n"
     ]
    }
   ],
   "source": [
    "print(\"abc\" * 3)"
   ]
  },
  {
   "cell_type": "markdown",
   "metadata": {},
   "source": [
    "### C. リストと辞書型\n",
    "***\n",
    "最後に，リストと辞書型について説明する．"
   ]
  },
  {
   "cell_type": "markdown",
   "metadata": {},
   "source": [
    "#### リスト\n",
    "***\n",
    "リストとは，C言語で言う配列のようなもので，複数の値をひとまとめに扱うものである．データ分析において非常によく使われる．\n",
    "\n",
    "リストを表現する時は，`[〇,〇,〇,〇]`のように，全体を`[]`で囲み，要素を`,`で区切る．"
   ]
  },
  {
   "cell_type": "markdown",
   "metadata": {},
   "source": [
    "以下に，`[1,2,3,4,5,6,7,8,9,10]`というリストを作り例を示す．"
   ]
  },
  {
   "cell_type": "code",
   "execution_count": 16,
   "metadata": {},
   "outputs": [
    {
     "name": "stdout",
     "output_type": "stream",
     "text": [
      "[1, 2, 3, 4, 5, 6, 7, 8, 9, 10]\n"
     ]
    }
   ],
   "source": [
    "# リスト作成\n",
    "data_list = [1, 2, 3, 4, 5, 6, 7, 8, 9, 10]\n",
    "print(data_list)"
   ]
  },
  {
   "cell_type": "code",
   "execution_count": 17,
   "metadata": {},
   "outputs": [
    {
     "name": "stdout",
     "output_type": "stream",
     "text": [
      "変数のタイプ： <class 'list'>\n"
     ]
    }
   ],
   "source": [
    "# type()関数で変数のタイプを確認\n",
    "print(\"変数のタイプ：\", type(data_list))"
   ]
  },
  {
   "cell_type": "markdown",
   "metadata": {},
   "source": [
    "`print(\"文字列\", 変数)`で，`文字列`の後に`変数の中身`を出力することができる．"
   ]
  },
  {
   "cell_type": "code",
   "execution_count": 18,
   "metadata": {},
   "outputs": [
    {
     "name": "stdout",
     "output_type": "stream",
     "text": [
      "5\n"
     ]
    }
   ],
   "source": [
    "# 5番目の要素を出力\n",
    "print(data_list[4])"
   ]
  },
  {
   "cell_type": "code",
   "execution_count": 19,
   "metadata": {},
   "outputs": [
    {
     "name": "stdout",
     "output_type": "stream",
     "text": [
      "要素数： 10\n"
     ]
    }
   ],
   "source": [
    "# len()関数でリスト内の要素数を確認\n",
    "print(\"要素数：\", len(data_list))"
   ]
  },
  {
   "cell_type": "code",
   "execution_count": 20,
   "metadata": {},
   "outputs": [
    {
     "name": "stdout",
     "output_type": "stream",
     "text": [
      "[1, 2, 3, 4, 5, 6, 7, 8, 9, 10, 1, 2, 3, 4, 5, 6, 7, 8, 9, 10]\n"
     ]
    }
   ],
   "source": [
    "# listの2倍\n",
    "print(data_list * 2)"
   ]
  },
  {
   "cell_type": "markdown",
   "metadata": {},
   "source": [
    "※ 要素の2倍ではないので注意"
   ]
  },
  {
   "cell_type": "markdown",
   "metadata": {},
   "source": [
    "#### 辞書型\n",
    "***\n",
    "辞書型は，リストと同様に複数の値をまとめて扱えるものである．辞書型を使用することで，キーと値をペアにして複数の値を管理することができる．例えば，`リンゴが200円`，`オレンジが150円`，`メロンが400円`といったような組み合わせを辞書型として表すと，`{'Apple': 200, 'Orange': 150, 'Melon': 400}`となる．\n",
    "\n",
    "辞書型は全体を`{}`で囲い，`キー:値`のように表す．"
   ]
  },
  {
   "cell_type": "markdown",
   "metadata": {},
   "source": [
    "以下に，更に例を示す．"
   ]
  },
  {
   "cell_type": "code",
   "execution_count": 21,
   "metadata": {},
   "outputs": [
    {
     "name": "stdout",
     "output_type": "stream",
     "text": [
      "{'Apple': 200, 'Orange': 150, 'Melon': 400}\n"
     ]
    }
   ],
   "source": [
    "# 辞書型の作成\n",
    "data_dic = {'Apple': 200, 'Orange': 150, 'Melon': 400}\n",
    "print(data_dic)"
   ]
  },
  {
   "cell_type": "code",
   "execution_count": 22,
   "metadata": {},
   "outputs": [
    {
     "name": "stdout",
     "output_type": "stream",
     "text": [
      "150\n"
     ]
    }
   ],
   "source": [
    "# キーを指定し，値を参照する\n",
    "print(data_dic['Orange'])"
   ]
  }
 ],
 "metadata": {
  "kernelspec": {
   "display_name": "Python 3",
   "language": "python",
   "name": "python3"
  },
  "language_info": {
   "codemirror_mode": {
    "name": "ipython",
    "version": 3
   },
   "file_extension": ".py",
   "mimetype": "text/x-python",
   "name": "python",
   "nbconvert_exporter": "python",
   "pygments_lexer": "ipython3",
   "version": "3.7.6"
  }
 },
 "nbformat": 4,
 "nbformat_minor": 4
}
