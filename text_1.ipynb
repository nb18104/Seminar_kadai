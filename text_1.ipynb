{
  "nbformat": 4,
  "nbformat_minor": 0,
  "metadata": {
    "kernelspec": {
      "display_name": "Python 3",
      "language": "python",
      "name": "python3"
    },
    "language_info": {
      "codemirror_mode": {
        "name": "ipython",
        "version": 3
      },
      "file_extension": ".py",
      "mimetype": "text/x-python",
      "name": "python",
      "nbconvert_exporter": "python",
      "pygments_lexer": "ipython3",
      "version": "3.7.6"
    },
    "colab": {
      "name": "text_1.ipynb",
      "provenance": [],
      "include_colab_link": true
    }
  },
  "cells": [
    {
      "cell_type": "markdown",
      "metadata": {
        "id": "view-in-github",
        "colab_type": "text"
      },
      "source": [
        "<a href=\"https://colab.research.google.com/github/nb18104/Seminar_kadai/blob/master/text_1.ipynb\" target=\"_parent\"><img src=\"https://colab.research.google.com/assets/colab-badge.svg\" alt=\"Open In Colab\"/></a>"
      ]
    },
    {
      "cell_type": "markdown",
      "metadata": {
        "id": "IeFT35t5-KQB"
      },
      "source": [
        "# 第１回　Pythonの基礎\n",
        "***\n",
        "## 目次\n",
        "1. Pythonとは\n",
        "2. 基本構文\n",
        "    1. 変数\n",
        "    2. 演算\n",
        "    3. リストと辞書型"
      ]
    },
    {
      "cell_type": "markdown",
      "metadata": {
        "id": "Av6vv9mU-KQC"
      },
      "source": [
        "## 1. Pythonとは\n",
        "***\n",
        "Python（パイソン）は，[インタプリタ](http://e-words.jp/w/%E3%82%A4%E3%83%B3%E3%82%BF%E3%83%97%E3%83%AA%E3%82%BF.html)型の高水準汎用プログラミング言語である．主な特徴としては，他言語と比べてコーディングが容易な点や，データ解析や機械学習系のライブラリが用意されていることから，データサイエンスにおいて広く使われている．\n",
        "また，他にも，YouTubeやInstagram，DropboxなどのWebアプリの開発に用いられている言語である．\n",
        "\n",
        "\n",
        "実際に，`Hello World!!!`と出力するソースコードをC言語と比較してみる．\n",
        "\n",
        "- C言語\n",
        "```vb\n",
        "# include <stdio.h>\n",
        "int main(void){\n",
        "    printf(\"Hello World!!!\\n\");\n",
        "    return 0;\n",
        "}\n",
        "```\n",
        "\n",
        "- Python\n",
        "```vb\n",
        "print(\"Hello World!!!\")\n",
        "```"
      ]
    },
    {
      "cell_type": "markdown",
      "metadata": {
        "id": "E2GCpkj5-KQD"
      },
      "source": [
        "## 2. 基本構文\n",
        "***\n",
        "`Hello World!!!`の比較のように，Pythonは簡単かつシンプルにコードを記述することができる．\n",
        "また，C言語で用いられるような，文末を表す`;`やブロックを表す`{}`は使われず，`改行`や`インデント`で表される．\n",
        "\n",
        "他には，コメント文を記述する際は`#`を用いる．"
      ]
    },
    {
      "cell_type": "markdown",
      "metadata": {
        "id": "chbVTw8j-KQD"
      },
      "source": [
        "### A. 変数\n",
        "***\n",
        "ここでは，変数について説明する．\n",
        "\n",
        "C言語やJavaなどのプログラミング言語では，変数を扱う際に，整数型`int`なのか浮動小数点型`float`なのか文字型`char`なのか宣言する必要があった．これを静的型付け言語と言う．一方で，Pythonは動的型付け言語と言われ，変数の「型宣言」が基本的に必要ない．"
      ]
    },
    {
      "cell_type": "markdown",
      "metadata": {
        "id": "EPTdMuA8-KQE"
      },
      "source": [
        "以下に，変数に数値や文字列を代入し，`print`によって出力する例を示す．"
      ]
    },
    {
      "cell_type": "code",
      "metadata": {
        "id": "l3UJ79vy-KQF"
      },
      "source": [
        "# 変数に代入\n",
        "\n",
        "a = 12 # 整数\n",
        "b = 3.14 # 小数\n",
        "c = \"K\" # 文字\n",
        "d = \"KamiokaLab\" # 文字列"
      ],
      "execution_count": null,
      "outputs": []
    },
    {
      "cell_type": "code",
      "metadata": {
        "id": "W-vIBZQT-KQJ",
        "outputId": "445b2cb2-40ec-4130-9af1-e896f435d4bd"
      },
      "source": [
        "# aを出力\n",
        "print(a)"
      ],
      "execution_count": null,
      "outputs": [
        {
          "output_type": "stream",
          "text": [
            "12\n"
          ],
          "name": "stdout"
        }
      ]
    },
    {
      "cell_type": "code",
      "metadata": {
        "id": "XYGYsAP1-KQN",
        "outputId": "c0b3d8f4-cf37-40c5-c23a-2721d891f012"
      },
      "source": [
        "# bを出力\n",
        "print(b)"
      ],
      "execution_count": null,
      "outputs": [
        {
          "output_type": "stream",
          "text": [
            "3.14\n"
          ],
          "name": "stdout"
        }
      ]
    },
    {
      "cell_type": "code",
      "metadata": {
        "id": "aPprIA-A-KQQ",
        "outputId": "906c998c-d7fb-44ce-f23b-e58dcb01f86f"
      },
      "source": [
        "# cを出力\n",
        "print(c)"
      ],
      "execution_count": null,
      "outputs": [
        {
          "output_type": "stream",
          "text": [
            "K\n"
          ],
          "name": "stdout"
        }
      ]
    },
    {
      "cell_type": "code",
      "metadata": {
        "id": "ldTvciWc-KQS",
        "outputId": "3c2d1bc2-67eb-4603-930f-2546367830e2"
      },
      "source": [
        "# dを出力\n",
        "print(d)"
      ],
      "execution_count": null,
      "outputs": [
        {
          "output_type": "stream",
          "text": [
            "KamiokaLab\n"
          ],
          "name": "stdout"
        }
      ]
    },
    {
      "cell_type": "markdown",
      "metadata": {
        "id": "_h24ghWJ-KQV"
      },
      "source": [
        "また，文字列`d`の後に，`[インデックス]`を指定することによって，インデックス番目の文字を取り出すことができる．\n",
        "\n",
        "※ インデックスは0から．"
      ]
    },
    {
      "cell_type": "code",
      "metadata": {
        "id": "J-dcdUbD-KQV",
        "outputId": "e33047d5-b3e0-4120-f788-d99507e81c6e"
      },
      "source": [
        "# 文字列dの1番目の文字を出力\n",
        "print(d[0])"
      ],
      "execution_count": null,
      "outputs": [
        {
          "output_type": "stream",
          "text": [
            "K\n"
          ],
          "name": "stdout"
        }
      ]
    },
    {
      "cell_type": "code",
      "metadata": {
        "id": "krph1gej-KQY",
        "outputId": "6cfcfef5-98f5-4be4-f958-ea669f0229bc"
      },
      "source": [
        "# 文字列dの8番目の文字を出力\n",
        "print(d[7])"
      ],
      "execution_count": null,
      "outputs": [
        {
          "output_type": "stream",
          "text": [
            "L\n"
          ],
          "name": "stdout"
        }
      ]
    },
    {
      "cell_type": "markdown",
      "metadata": {
        "id": "kYHNUOWd-KQa"
      },
      "source": [
        "インデックスにマイナスを渡すことで，文字列の後ろから取り出すこともできる．"
      ]
    },
    {
      "cell_type": "code",
      "metadata": {
        "id": "vDNo3SNe-KQb",
        "outputId": "84993a81-4e9e-4251-eff5-190966fe1a20"
      },
      "source": [
        "# 文字列dの後から1番目の文字を出力\n",
        "print(d[-1])"
      ],
      "execution_count": null,
      "outputs": [
        {
          "output_type": "stream",
          "text": [
            "b\n"
          ],
          "name": "stdout"
        }
      ]
    },
    {
      "cell_type": "code",
      "metadata": {
        "id": "VwbbGLsK-KQd",
        "outputId": "6aef489c-d1e3-44b2-ba35-1fcfc7a43503"
      },
      "source": [
        "# 文字列dの後から3番目の文字を出力\n",
        "print(d[-3])"
      ],
      "execution_count": null,
      "outputs": [
        {
          "output_type": "stream",
          "text": [
            "L\n"
          ],
          "name": "stdout"
        }
      ]
    },
    {
      "cell_type": "markdown",
      "metadata": {
        "id": "jsw2kFcl-KQg"
      },
      "source": [
        "### B. 演算\n",
        "***\n",
        "次に，演算子について説明する．"
      ]
    },
    {
      "cell_type": "markdown",
      "metadata": {
        "id": "oSFq05Vw-KQg"
      },
      "source": [
        "#### 数値演算子 (https://www.headboost.jp/python-operators/)\n",
        "\n",
        "| 演算子 |   例   | 説明      |\n",
        "| :----: | :----: | :--------- |\n",
        "|   +    | a + b  | 足し算 |\n",
        "|   -    | a - b  | 引き算 |\n",
        "|   *    | a * b  | 掛け算 |\n",
        "|   /    | a / b  | 割り算 |\n",
        "|   //   | a // b | aをbで割った商の整数値 |\n",
        "|   %    | a % b  | aをbで割った時の余り |\n",
        "|   **   | a ** b | aのb乗 |"
      ]
    },
    {
      "cell_type": "code",
      "metadata": {
        "id": "VSGqgo2i-KQh",
        "outputId": "c3cb2763-b7d2-40de-a83f-1dda89f33ce3"
      },
      "source": [
        "print(10 + 3)"
      ],
      "execution_count": null,
      "outputs": [
        {
          "output_type": "stream",
          "text": [
            "13\n"
          ],
          "name": "stdout"
        }
      ]
    },
    {
      "cell_type": "code",
      "metadata": {
        "id": "cMRFEPkK-KQj",
        "outputId": "3e4785c9-8a65-40c0-8045-66c9f1cd4f08"
      },
      "source": [
        "print(10 // 3)"
      ],
      "execution_count": null,
      "outputs": [
        {
          "output_type": "stream",
          "text": [
            "3\n"
          ],
          "name": "stdout"
        }
      ]
    },
    {
      "cell_type": "code",
      "metadata": {
        "id": "sPAIjJEb-KQm",
        "outputId": "bc5d571f-cee7-42a8-8b64-a3ab842abe22"
      },
      "source": [
        "print(10 ** 3)"
      ],
      "execution_count": null,
      "outputs": [
        {
          "output_type": "stream",
          "text": [
            "1000\n"
          ],
          "name": "stdout"
        }
      ]
    },
    {
      "cell_type": "markdown",
      "metadata": {
        "id": "jFLwpb7_-KQo"
      },
      "source": [
        "#### 文字列演算子 (https://www.headboost.jp/python-operators/)\n",
        "\n",
        "| 演算子 |   例   | 説明      |\n",
        "| :----: | :----: | :--------- |\n",
        "|   +    | \"a\" + \"b\" | 文字\"a\"と文字\"b\"を連結して，文字列\"ab\" |\n",
        "|   *    | \"abc\" * n  | 文字列\"abc\"をn回繰り返す |"
      ]
    },
    {
      "cell_type": "code",
      "metadata": {
        "id": "y1SUdIBS-KQp",
        "outputId": "5ab72eff-6e9e-49ab-ca1e-ee2e0f5fbd83"
      },
      "source": [
        "print(\"a\" + \"b\")"
      ],
      "execution_count": null,
      "outputs": [
        {
          "output_type": "stream",
          "text": [
            "ab\n"
          ],
          "name": "stdout"
        }
      ]
    },
    {
      "cell_type": "code",
      "metadata": {
        "id": "csfKgqF5-KQr",
        "outputId": "1c9c0640-3bad-4184-dc10-65fb7754f71f"
      },
      "source": [
        "print(\"abc\" * 3)"
      ],
      "execution_count": null,
      "outputs": [
        {
          "output_type": "stream",
          "text": [
            "abcabcabc\n"
          ],
          "name": "stdout"
        }
      ]
    },
    {
      "cell_type": "markdown",
      "metadata": {
        "id": "nzh3tFS8-KQu"
      },
      "source": [
        "### C. リストと辞書型\n",
        "***\n",
        "最後に，リストと辞書型について説明する．"
      ]
    },
    {
      "cell_type": "markdown",
      "metadata": {
        "id": "JYL2Q9CG-KQu"
      },
      "source": [
        "#### リスト\n",
        "***\n",
        "リストとは，C言語で言う配列のようなもので，複数の値をひとまとめに扱うものである．データ分析において非常によく使われる．\n",
        "\n",
        "リストを表現する時は，`[〇,〇,〇,〇]`のように，全体を`[]`で囲み，要素を`,`で区切る．"
      ]
    },
    {
      "cell_type": "markdown",
      "metadata": {
        "id": "Oc2tAoV5-KQv"
      },
      "source": [
        "以下に，`[1,2,3,4,5,6,7,8,9,10]`というリストを作り例を示す．"
      ]
    },
    {
      "cell_type": "code",
      "metadata": {
        "id": "wAvtPLGa-KQv",
        "outputId": "04e293f2-de09-46fe-8e68-75133e7b3494"
      },
      "source": [
        "# リスト作成\n",
        "data_list = [1, 2, 3, 4, 5, 6, 7, 8, 9, 10]\n",
        "print(data_list)"
      ],
      "execution_count": null,
      "outputs": [
        {
          "output_type": "stream",
          "text": [
            "[1, 2, 3, 4, 5, 6, 7, 8, 9, 10]\n"
          ],
          "name": "stdout"
        }
      ]
    },
    {
      "cell_type": "code",
      "metadata": {
        "id": "4tfOvuWC-KQy",
        "outputId": "0a8c065e-cd61-4a6f-8227-67c551828b4b"
      },
      "source": [
        "# type()関数で変数のタイプを確認\n",
        "print(\"変数のタイプ：\", type(data_list))"
      ],
      "execution_count": null,
      "outputs": [
        {
          "output_type": "stream",
          "text": [
            "変数のタイプ： <class 'list'>\n"
          ],
          "name": "stdout"
        }
      ]
    },
    {
      "cell_type": "markdown",
      "metadata": {
        "id": "2LO9Lxl2-KQ2"
      },
      "source": [
        "`print(\"文字列\", 変数)`で，`文字列`の後に`変数の中身`を出力することができる．"
      ]
    },
    {
      "cell_type": "code",
      "metadata": {
        "id": "p35D44g_-KQ3",
        "outputId": "cfd16e65-e8f5-45a0-94a3-704bf937f23c"
      },
      "source": [
        "# 5番目の要素を出力\n",
        "print(data_list[4])"
      ],
      "execution_count": null,
      "outputs": [
        {
          "output_type": "stream",
          "text": [
            "5\n"
          ],
          "name": "stdout"
        }
      ]
    },
    {
      "cell_type": "code",
      "metadata": {
        "id": "tdVCEJdj-KQ9",
        "outputId": "d4a55288-62a7-4b84-f553-68c95fe767d4"
      },
      "source": [
        "# len()関数でリスト内の要素数を確認\n",
        "print(\"要素数：\", len(data_list))"
      ],
      "execution_count": null,
      "outputs": [
        {
          "output_type": "stream",
          "text": [
            "要素数： 10\n"
          ],
          "name": "stdout"
        }
      ]
    },
    {
      "cell_type": "code",
      "metadata": {
        "id": "mM0vei03-KRB",
        "outputId": "614cdae1-1833-4932-c9d5-a0b0f840e137"
      },
      "source": [
        "# listの2倍\n",
        "print(data_list * 2)"
      ],
      "execution_count": null,
      "outputs": [
        {
          "output_type": "stream",
          "text": [
            "[1, 2, 3, 4, 5, 6, 7, 8, 9, 10, 1, 2, 3, 4, 5, 6, 7, 8, 9, 10]\n"
          ],
          "name": "stdout"
        }
      ]
    },
    {
      "cell_type": "markdown",
      "metadata": {
        "id": "eJn-5D8z-KRE"
      },
      "source": [
        "※ 要素の2倍ではないので注意"
      ]
    },
    {
      "cell_type": "markdown",
      "metadata": {
        "id": "dCAv5yLp-KRE"
      },
      "source": [
        "#### 辞書型\n",
        "***\n",
        "辞書型は，リストと同様に複数の値をまとめて扱えるものである．辞書型を使用することで，キーと値をペアにして複数の値を管理することができる．例えば，`リンゴが200円`，`オレンジが150円`，`メロンが400円`といったような組み合わせを辞書型として表すと，`{'Apple': 200, 'Orange': 150, 'Melon': 400}`となる．\n",
        "\n",
        "辞書型は全体を`{}`で囲い，`キー:値`のように表す．"
      ]
    },
    {
      "cell_type": "markdown",
      "metadata": {
        "id": "Xe82Eo2V-KRF"
      },
      "source": [
        "以下に，更に例を示す．"
      ]
    },
    {
      "cell_type": "code",
      "metadata": {
        "id": "ki_Ns0GZ-KRF",
        "outputId": "0b3db254-1926-4c32-e3b2-5b6b93ba456b"
      },
      "source": [
        "# 辞書型の作成\n",
        "data_dic = {'Apple': 200, 'Orange': 150, 'Melon': 400}\n",
        "print(data_dic)"
      ],
      "execution_count": null,
      "outputs": [
        {
          "output_type": "stream",
          "text": [
            "{'Apple': 200, 'Orange': 150, 'Melon': 400}\n"
          ],
          "name": "stdout"
        }
      ]
    },
    {
      "cell_type": "code",
      "metadata": {
        "id": "jXLXQeQy-KRJ",
        "outputId": "76a2e3c5-b1b8-4427-db07-2997ab426aa4"
      },
      "source": [
        "# キーを指定し，値を参照する\n",
        "print(data_dic['Orange'])"
      ],
      "execution_count": null,
      "outputs": [
        {
          "output_type": "stream",
          "text": [
            "150\n"
          ],
          "name": "stdout"
        }
      ]
    }
  ]
}